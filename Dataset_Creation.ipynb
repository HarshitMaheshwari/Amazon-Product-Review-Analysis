{
 "cells": [
  {
   "cell_type": "code",
   "execution_count": 1,
   "metadata": {},
   "outputs": [],
   "source": [
    "import requests\n",
    "from bs4 import BeautifulSoup\n",
    "import pandas as pd\n",
    "import numpy as np\n",
    "import re"
   ]
  },
  {
   "cell_type": "code",
   "execution_count": 2,
   "metadata": {},
   "outputs": [],
   "source": [
    "def fetch_url_data(pageNo):\n",
    "  \n",
    "    url = 'https://www.amazon.com/Crocs-Unisex-Adult-Classic-Water-Comfortable/product-reviews/B08L7T3L8C/ref=cm_cr_getr_d_paging_btm_next_'+str(pageNo)+'?ie=UTF8&reviewerType=all_reviews&pageNumber='+str(pageNo)+'&filterByStar=critical'\n",
    "    headers={\"user-agent\":\"Mozilla/5.0 (Macintosh; Intel Mac OS X 10_15_6) AppleWebKit/605.1.15 (KHTML, like Gecko) Version/13.1.2 Safari/605.1.15\",\"Accept-Encoding\":\"gzip, deflate\", \"Accept\":\"text/html,application/xhtml+xml,application/xml;q=0.9,*/*;q=0.8\", \"DNT\":\"1\",\"Connection\":\"close\", \"Upgrade-Insecure-Requests\":\"1\"}\n",
    "\n",
    "    page=requests.get(url, headers=headers)\n",
    "    \n",
    "    soup = BeautifulSoup(page.content)\n",
    "\n",
    "\n",
    "    table = []\n",
    "    for a in soup.find_all('div', attrs={'class':'a-section review aok-relative'}):\n",
    "        author_name = a.find('span',attrs={'class':'a-profile-name'})\n",
    "        title = a.find('a', attrs={'class':'a-size-base a-link-normal review-title a-color-base review-title-content a-text-bold'})\n",
    "        rating = a.find('span', attrs={'class':'a-icon-alt'})\n",
    "        review = a.find('span', attrs={'class':'a-size-base review-text review-text-content'})\n",
    "        size = a.find('a', attrs={'class':'a-size-mini a-link-normal a-color-secondary'})\n",
    "        helpfullness = a.find('div', attrs={'class':'a-row a-spacing-small'})\n",
    "        review_date = a.find('span', attrs={'class','a-size-base a-color-secondary review-date'})\n",
    "        \n",
    "        columns=[]\n",
    "        \n",
    "        if title is not None:\n",
    "            columns.append(title.text)\n",
    "        else:\n",
    "            columns.append(np.nan)\n",
    "            \n",
    "        if author_name is not None:\n",
    "            columns.append(author_name.text)\n",
    "        else:\n",
    "            columns.append(np.nan)\n",
    "\n",
    "        if rating is not None:\n",
    "            columns.append(rating.text)\n",
    "        else:\n",
    "            columns.append(np.nan)\n",
    "            \n",
    "        if review is not None:\n",
    "            columns.append(review.text)\n",
    "        else:\n",
    "            columns.append(np.nan)\n",
    "            \n",
    "        if size is not None:\n",
    "            columns.append(size.text)\n",
    "        else:\n",
    "            columns.append(np.nan)\n",
    "            \n",
    "        if helpfullness is not None:   \n",
    "            columns.append(helpfullness.text)\n",
    "        else:\n",
    "            columns.append(np.nan)\n",
    "            \n",
    "        if review_date is not None:\n",
    "            columns.append(review_date.text)\n",
    "        else:\n",
    "            columns.append(np.nan)\n",
    "            \n",
    "        table.append(columns)\n",
    "              \n",
    "    return table"
   ]
  },
  {
   "cell_type": "code",
   "execution_count": null,
   "metadata": {},
   "outputs": [],
   "source": [
    "complete_data = []\n",
    "for i in range(0, 3000):\n",
    "    complete_data.append(fetch_url_data(i))\n",
    "flatten = lambda l: [item for sublist in l for item in sublist]"
   ]
  },
  {
   "cell_type": "code",
   "execution_count": null,
   "metadata": {},
   "outputs": [],
   "source": []
  }
 ],
 "metadata": {
  "kernelspec": {
   "display_name": "Python 3",
   "language": "python",
   "name": "python3"
  },
  "language_info": {
   "codemirror_mode": {
    "name": "ipython",
    "version": 3
   },
   "file_extension": ".py",
   "mimetype": "text/x-python",
   "name": "python",
   "nbconvert_exporter": "python",
   "pygments_lexer": "ipython3",
   "version": "3.8.3"
  }
 },
 "nbformat": 4,
 "nbformat_minor": 4
}
